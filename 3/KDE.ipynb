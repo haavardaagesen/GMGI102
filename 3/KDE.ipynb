{
 "cells": [
  {
   "cell_type": "markdown",
   "id": "681cfcf2-9732-4428-822d-553470daaaa3",
   "metadata": {},
   "source": [
    "# Punkttetthet"
   ]
  },
  {
   "cell_type": "code",
   "execution_count": null,
   "id": "3bcf2164-cf32-49a4-875e-6abf75032f2e",
   "metadata": {
    "tags": []
   },
   "outputs": [],
   "source": [
    "import numpy\n",
    "import pandas as pd\n",
    "import geopandas as gpd\n",
    "import pysal\n",
    "import seaborn\n",
    "import contextily\n",
    "import matplotlib.pyplot as plt"
   ]
  },
  {
   "cell_type": "markdown",
   "id": "4b4a38c1-8fa4-47f2-ab9e-08f0c6ba6315",
   "metadata": {},
   "source": [
    "## Laste inn data"
   ]
  },
  {
   "cell_type": "code",
   "execution_count": null,
   "id": "44ad0a23-bb4f-4e32-bf5c-980837f35778",
   "metadata": {
    "tags": []
   },
   "outputs": [],
   "source": [
    "tweets = gpd.read_file('data/oslo_subset.gpkg')\n",
    "# Convert to Pseudo Mercator\n",
    "tweets = tweets.to_crs(epsg=3857)\n",
    "tweets[\"x\"] = tweets.geometry.x\n",
    "tweets[\"y\"] = tweets.geometry.y"
   ]
  },
  {
   "cell_type": "code",
   "execution_count": null,
   "id": "a73ba5ea-43c1-4bac-b0fe-523eab338bf9",
   "metadata": {
    "tags": []
   },
   "outputs": [],
   "source": [
    "display(tweets.head())\n",
    "print(f'Antall rader: {len(tweets)}')\n",
    "print(f'Koordinatsystem: {tweets.crs}')"
   ]
  },
  {
   "cell_type": "markdown",
   "id": "825cf0bd-2442-4f80-aa81-679a17e692f0",
   "metadata": {},
   "source": [
    "## Plot"
   ]
  },
  {
   "cell_type": "code",
   "execution_count": null,
   "id": "256b8149-05a0-4815-86af-4bf749e9c565",
   "metadata": {
    "tags": []
   },
   "outputs": [],
   "source": [
    "joint_axes = seaborn.jointplot(x=\"x\", y=\"y\", data=tweets, s=0.5, height=10)\n",
    "contextily.add_basemap(\n",
    "    joint_axes.ax_joint,\n",
    "    source=contextily.providers.CartoDB.PositronNoLabels,\n",
    ")"
   ]
  },
  {
   "cell_type": "markdown",
   "id": "65fda256-ee91-458f-bded-3d4cd598d4fc",
   "metadata": {},
   "source": [
    "## Gruppere"
   ]
  },
  {
   "cell_type": "code",
   "execution_count": null,
   "id": "71aa48f3-cefa-484f-b584-c6e7c31a2d77",
   "metadata": {
    "tags": []
   },
   "outputs": [],
   "source": [
    "# Set up figure and axis\n",
    "f, ax = plt.subplots(1, figsize=(12, 9))\n",
    "# Generate and add hexbin with 50 hexagons in each\n",
    "# dimension, no borderlines, half transparency,\n",
    "# and the reverse viridis colormap\n",
    "hb = ax.hexbin(\n",
    "    tweets['x'],\n",
    "    tweets['y'],\n",
    "    gridsize=50,\n",
    "    linewidths=0,\n",
    "    alpha=0.5,\n",
    "    cmap=\"viridis_r\",\n",
    ")\n",
    "# Add basemap\n",
    "contextily.add_basemap(\n",
    "    ax, source=contextily.providers.CartoDB.Positron\n",
    ")\n",
    "# Add colorbar\n",
    "plt.colorbar(hb)\n",
    "# Remove axes\n",
    "ax.set_axis_off()"
   ]
  },
  {
   "cell_type": "markdown",
   "id": "ea519064-bc8f-4915-bbc8-522e77787c64",
   "metadata": {},
   "source": [
    "## Kernel Density Estimation"
   ]
  },
  {
   "cell_type": "code",
   "execution_count": null,
   "id": "64c3a03d-7e33-4818-89dc-bb24058afcf6",
   "metadata": {
    "tags": []
   },
   "outputs": [],
   "source": [
    "# Set up figure and axis\n",
    "f, ax = plt.subplots(1, figsize=(9, 9))\n",
    "# Generate and add KDE with a shading of 50 gradients\n",
    "# coloured contours, 75% of transparency,\n",
    "# and the reverse viridis colormap\n",
    "seaborn.kdeplot(\n",
    "    x=tweets['x'],\n",
    "    y=tweets['y'],\n",
    "    n_levels=50,\n",
    "    alpha=0.55,\n",
    "    cmap=\"viridis_r\",\n",
    "    fill=True,\n",
    ")\n",
    "# Add basemap\n",
    "contextily.add_basemap(\n",
    "    ax, source=contextily.providers.CartoDB.Positron\n",
    ")\n",
    "# Remove axes\n",
    "ax.set_axis_off()"
   ]
  },
  {
   "cell_type": "code",
   "execution_count": null,
   "id": "b6f98257-efb3-413d-b7be-c8d09d5bbf0b",
   "metadata": {},
   "outputs": [],
   "source": []
  }
 ],
 "metadata": {
  "kernelspec": {
   "display_name": "Python 3 (ipykernel)",
   "language": "python",
   "name": "python3"
  },
  "language_info": {
   "codemirror_mode": {
    "name": "ipython",
    "version": 3
   },
   "file_extension": ".py",
   "mimetype": "text/x-python",
   "name": "python",
   "nbconvert_exporter": "python",
   "pygments_lexer": "ipython3",
   "version": "3.10.6"
  }
 },
 "nbformat": 4,
 "nbformat_minor": 5
}
