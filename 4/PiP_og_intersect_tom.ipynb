{
 "cells": [
  {
   "cell_type": "markdown",
   "id": "37caae4a-2241-4c1f-9587-f426e02d9049",
   "metadata": {},
   "source": [
    "# Punkt i polygon"
   ]
  },
  {
   "cell_type": "markdown",
   "id": "5c777b34-8dab-43a8-854b-505fe9902e97",
   "metadata": {},
   "source": [
    "Det å finne ut om et spesifikt punkt befinner seg innenfor eller utenfor et omåde, eller om en linje krysser en annen linje eller et polygon, er fundamentale geografiske operasjoner. Slike romlige spørringer er typisk et av de første stegene i romlige analyser. Kobling av ulike romlige dataset er et av de vanligste stedene hvor punkt i polygon (PIP)-analyser utføres."
   ]
  },
  {
   "cell_type": "markdown",
   "id": "33a7275b-740e-4541-b1af-dfaa07a12e0b",
   "metadata": {},
   "source": [
    "Du kan lese mer om den [teoretiske bakgrunnen for PIP-analyse](https://en.wikipedia.org/wiki/Point_in_polygon#Ray_casting_algorithm) hvis du ønsker."
   ]
  },
  {
   "cell_type": "markdown",
   "id": "6fb4c5a2-6440-4d4c-8706-310b66f35269",
   "metadata": {},
   "source": [
    "I Shapely er det i hovedsak to måter å utføre en PIP-analyse:\n",
    "\n",
    "1. Bruk av [within()](https://shapely.readthedocs.io/en/stable/manual.html#object.within) funksjonen som sjekker hvorvidt et punkt befinner seg inni et polygon\n",
    "2. Bruk av [contains()](https://shapely.readthedocs.io/en/stable/manual.html#object.contains) funksjonen som sjekket om et polygon inneholder et punkt.\n",
    "\n",
    "Selv om vi her snakker om **punkt** i polygon, er det også mulig å sjekke hvorvidt en linje eller et polygon er innenfor et annet polygon."
   ]
  },
  {
   "cell_type": "markdown",
   "id": "efb5bd29-2f80-44c9-817c-2dfeabeb286d",
   "metadata": {},
   "source": [
    "La oss lage noen punkt og utforske shapely-funksjonaliteten:"
   ]
  },
  {
   "cell_type": "code",
   "execution_count": null,
   "id": "20f7a3a2-6b9d-4503-9993-a8a0a1c956d7",
   "metadata": {
    "tags": []
   },
   "outputs": [],
   "source": [
    "from shapely.geometry import Point, Polygon\n",
    "\n",
    "# Create Point objects\n",
    "punkt1 = Point(10.39506,63.43049)\n",
    "punkt2 = Point(10.39693,63.42692)"
   ]
  },
  {
   "cell_type": "code",
   "execution_count": null,
   "id": "e74e7118-cca7-415a-89b0-d806fb52803d",
   "metadata": {
    "tags": []
   },
   "outputs": [],
   "source": []
  },
  {
   "cell_type": "markdown",
   "id": "81b6591e-b0d3-4aeb-8e27-933b08f64e87",
   "metadata": {},
   "source": [
    "La oss lage et polygon fra noen hjørne-koordinater:"
   ]
  },
  {
   "cell_type": "code",
   "execution_count": null,
   "id": "e7521f02-4d00-4c0a-aed6-18ffa814c340",
   "metadata": {
    "tags": []
   },
   "outputs": [],
   "source": [
    "koordinater = [(10.39444,63.43090),(10.39427,63.43010),(10.39594,63.43003),(10.39607,63.43084)]\n",
    "polygon = "
   ]
  },
  {
   "cell_type": "code",
   "execution_count": null,
   "id": "1bab74ca-4f02-4e2e-b08e-5ff14c8630c6",
   "metadata": {
    "tags": []
   },
   "outputs": [],
   "source": []
  },
  {
   "cell_type": "code",
   "execution_count": null,
   "id": "7d06219c-d03d-4eb1-8838-50be188ab0dc",
   "metadata": {
    "tags": []
   },
   "outputs": [],
   "source": [
    "# Check points and polygon\n"
   ]
  },
  {
   "cell_type": "markdown",
   "id": "19a6ee96-7e91-4d55-ae65-75ccf6ba3525",
   "metadata": {},
   "source": [
    "Vi kan nå sjekke hvorvidt punktene er innenfor polygonet vårt:"
   ]
  },
  {
   "cell_type": "code",
   "execution_count": null,
   "id": "d9c013f6-090b-43e4-88e2-829349bf06c7",
   "metadata": {},
   "outputs": [],
   "source": []
  },
  {
   "cell_type": "code",
   "execution_count": null,
   "id": "28da9077-ad79-4447-b88d-e9a397ee7c5c",
   "metadata": {},
   "outputs": [],
   "source": []
  },
  {
   "cell_type": "markdown",
   "id": "dbb98092-1b92-4824-87bd-e8c6d095e6ad",
   "metadata": {
    "execution": {
     "iopub.execute_input": "2022-09-26T11:32:23.798528Z",
     "iopub.status.busy": "2022-09-26T11:32:23.798335Z",
     "iopub.status.idle": "2022-09-26T11:32:23.801299Z",
     "shell.execute_reply": "2022-09-26T11:32:23.800856Z",
     "shell.execute_reply.started": "2022-09-26T11:32:23.798513Z"
    }
   },
   "source": [
    "Altså, det første punktet vårt befinner seg innenfor polygonet, mens det andre punktet ikke gjør det. Faktisk er det første punktet nesten i midten av polygonet vårt, noe vi kan se hvis vi bruker ``centroid`` attributten til polygonet vårt."
   ]
  },
  {
   "cell_type": "code",
   "execution_count": null,
   "id": "75f37d44-9065-4484-b70e-363f5e014f9f",
   "metadata": {},
   "outputs": [],
   "source": []
  },
  {
   "cell_type": "markdown",
   "id": "a6f915a7-4650-4d19-bc9c-8456c15c4572",
   "metadata": {},
   "source": [
    "Vi kan også bruke motsatt metode for å sjekke hvorvidt polygonet vårt inneholder de to punktene:"
   ]
  },
  {
   "cell_type": "code",
   "execution_count": null,
   "id": "3c8e7be1-bd05-4877-b8eb-895a284ca6a1",
   "metadata": {
    "tags": []
   },
   "outputs": [],
   "source": []
  },
  {
   "cell_type": "markdown",
   "id": "daf00424-fcb9-4257-8858-cd30c650d8f1",
   "metadata": {},
   "source": [
    "## Intersect"
   ]
  },
  {
   "cell_type": "markdown",
   "id": "6e477355-0a01-47c0-8fe5-cfb0093f9e84",
   "metadata": {},
   "source": [
    "En annen vanlig geografisk operasjon er å sjekke hvorvidt en geometri krysser eller berører en annen. I Shapely er det igjen to ulike måter som dette kan sjekkes ved:\n",
    "\n",
    "- [intersects():](https://shapely.readthedocs.io/en/stable/manual.html#object.intersects) Sjekker om et objekt krysser et annet.\n",
    "\n",
    "- [touches():](https://shapely.readthedocs.io/en/stable/manual.html#object.touches) Sjekker om et objekt berører et annet."
   ]
  },
  {
   "cell_type": "code",
   "execution_count": null,
   "id": "32cfc324-6811-44ed-a909-62bac24b1dc5",
   "metadata": {},
   "outputs": [],
   "source": [
    "from shapely.geometry import LineString, MultiLineString\n",
    "\n",
    "# Lag to linjer\n",
    "linje_a = \n",
    "linje_b = "
   ]
  },
  {
   "cell_type": "markdown",
   "id": "123b8059-9172-4856-a5de-d54974a3d660",
   "metadata": {},
   "source": [
    "Vi kan sjekke om linje a \"krysser\" linje b:"
   ]
  },
  {
   "cell_type": "code",
   "execution_count": null,
   "id": "d8df3b80-dddb-44ae-9a70-2be783a98fbd",
   "metadata": {},
   "outputs": [],
   "source": []
  },
  {
   "cell_type": "markdown",
   "id": "596948d1-7694-47ac-a5e2-ba6d9b2d489a",
   "metadata": {},
   "source": [
    "Vi kan også sjekke hvorvidt linje a \"berører\" linje b"
   ]
  },
  {
   "cell_type": "code",
   "execution_count": null,
   "id": "44b26819-0419-4e0c-a48e-394a8a3041e9",
   "metadata": {},
   "outputs": [],
   "source": []
  },
  {
   "cell_type": "markdown",
   "id": "31bf2d3b-fe62-4e35-9d45-2b12c49197e0",
   "metadata": {},
   "source": [
    "Vi kan se dette hvis vi plotter begge linjene som en MultiLineString:"
   ]
  },
  {
   "cell_type": "code",
   "execution_count": null,
   "id": "bfd0c50e-66cc-454d-a962-27043551682a",
   "metadata": {},
   "outputs": [],
   "source": [
    "multi_linje = MultiLineString([linje_a, linje_b])\n",
    "multi_linje"
   ]
  },
  {
   "cell_type": "code",
   "execution_count": null,
   "id": "a6cdf5e4-ddbe-44ee-ab40-e7ceb08d9d55",
   "metadata": {
    "tags": []
   },
   "outputs": [],
   "source": []
  },
  {
   "cell_type": "code",
   "execution_count": null,
   "id": "e9c5f372-96ea-404c-960a-9c08a5a27af4",
   "metadata": {},
   "outputs": [],
   "source": []
  },
  {
   "cell_type": "markdown",
   "id": "e850915d-b2b3-473d-9911-f964eac9904f",
   "metadata": {},
   "source": [
    "## Punkt i polygon i Geopandas"
   ]
  },
  {
   "cell_type": "markdown",
   "id": "6490a697-065f-4330-98b4-b296e188ca64",
   "metadata": {},
   "source": [
    "PIP-analyser kan også gjøres for større datasett av gangen, for eksempel kan vi lese data inn i en GeoDataFrame og utføre en PIP-analyse på den:"
   ]
  },
  {
   "cell_type": "code",
   "execution_count": null,
   "id": "ef9d41c2-bc4b-4cef-9f91-194f956f1886",
   "metadata": {
    "tags": []
   },
   "outputs": [],
   "source": [
    "import geopandas as gpd\n",
    "import pandas as pd\n",
    "\n",
    "bydeler = gpd.read_file('data/oslo_bydeler.gpkg')\n",
    "display(bydeler.head())"
   ]
  },
  {
   "cell_type": "markdown",
   "id": "ff7a667c-abc4-4cec-ac20-4fa7cad6d504",
   "metadata": {
    "execution": {
     "iopub.execute_input": "2022-09-27T12:19:14.069763Z",
     "iopub.status.busy": "2022-09-27T12:19:14.069544Z",
     "iopub.status.idle": "2022-09-27T12:19:14.073231Z",
     "shell.execute_reply": "2022-09-27T12:19:14.072530Z",
     "shell.execute_reply.started": "2022-09-27T12:19:14.069748Z"
    }
   },
   "source": [
    "La oss finne punkter i marka i Oslo:"
   ]
  },
  {
   "cell_type": "code",
   "execution_count": null,
   "id": "520d340b-788e-427b-96bd-c29af7d3a440",
   "metadata": {
    "tags": []
   },
   "outputs": [],
   "source": [
    "# Subset data to only one area\n",
    "marka = \n",
    "\n",
    "marka.reset_index(drop=True, inplace=True)"
   ]
  },
  {
   "cell_type": "code",
   "execution_count": null,
   "id": "9b2f972b-b51a-4062-8792-df1d95cfbdb8",
   "metadata": {
    "tags": []
   },
   "outputs": [],
   "source": [
    "import matplotlib.pyplot as plt\n",
    "\n",
    "# Create a figure with one subplot\n",
    "fig, ax = plt.subplots()\n",
    "\n",
    "# Plot polygons\n",
    "\n",
    "\n",
    "plt.tight_layout()"
   ]
  },
  {
   "cell_type": "markdown",
   "id": "138129f0-17cd-422f-99fa-896988a93f69",
   "metadata": {},
   "source": [
    "La oss laste inn punktdata vi kan gjøre PIP-analysen på:"
   ]
  },
  {
   "cell_type": "code",
   "execution_count": null,
   "id": "e69db908-c4ca-45a1-b348-dc81b8753c72",
   "metadata": {
    "tags": []
   },
   "outputs": [],
   "source": []
  },
  {
   "cell_type": "code",
   "execution_count": null,
   "id": "3d5b6457-91db-46a4-ac1d-fb81e8fd3c2d",
   "metadata": {
    "tags": []
   },
   "outputs": [],
   "source": [
    "# Create a figure with one subplot\n",
    "fig, ax = plt.subplots()\n",
    "\n",
    "# Plot polygons\n",
    "\n",
    "plt.tight_layout()"
   ]
  },
  {
   "cell_type": "markdown",
   "id": "a3df955e-8908-4155-94b8-5dcf7fc33c98",
   "metadata": {},
   "source": [
    "For å filtrere punktene våre, kan vi lage en maske ved å bruke ``within``\n",
    "funksjonaliteten i sentrums geometrien vår:"
   ]
  },
  {
   "cell_type": "code",
   "execution_count": null,
   "id": "dc41a4fc-c965-478c-b77a-72286707a345",
   "metadata": {
    "tags": []
   },
   "outputs": [],
   "source": []
  },
  {
   "cell_type": "code",
   "execution_count": null,
   "id": "5941c0fe-eda9-459c-9193-7e5859480f5c",
   "metadata": {
    "tags": []
   },
   "outputs": [],
   "source": []
  },
  {
   "cell_type": "markdown",
   "id": "8a35f0cb-ecfe-48a4-bad2-34ebf32bc5f2",
   "metadata": {
    "execution": {
     "iopub.execute_input": "2022-09-27T12:23:41.667138Z",
     "iopub.status.busy": "2022-09-27T12:23:41.666937Z",
     "iopub.status.idle": "2022-09-27T12:23:41.670356Z",
     "shell.execute_reply": "2022-09-27T12:23:41.669849Z",
     "shell.execute_reply.started": "2022-09-27T12:23:41.667123Z"
    }
   },
   "source": [
    "Vi kan nå velge punktene fra oslo_tweets, basert på masken vår:"
   ]
  },
  {
   "cell_type": "code",
   "execution_count": null,
   "id": "645037ac-166c-4866-a026-1cbd49bd7bd7",
   "metadata": {
    "tags": []
   },
   "outputs": [],
   "source": []
  },
  {
   "cell_type": "markdown",
   "id": "f657732d-c3b4-439e-97fe-85221d2496bb",
   "metadata": {},
   "source": [
    "Vi kan nå plotte de ulike lagene våre og se hvilke punkt som har blitt valgt ut:"
   ]
  },
  {
   "cell_type": "code",
   "execution_count": null,
   "id": "2c269bb6-2981-4e17-ba37-50e91ed82ede",
   "metadata": {
    "tags": []
   },
   "outputs": [],
   "source": [
    "# Create a figure with one subplot\n",
    "fig, ax = plt.subplots()\n",
    "\n",
    "# Plot polygons\n",
    "\n",
    "# Plot points\n",
    "\n",
    "\n",
    "plt.tight_layout()"
   ]
  },
  {
   "cell_type": "code",
   "execution_count": null,
   "id": "c9fe4c7f-306d-4c2a-8df5-4693a7bd3d52",
   "metadata": {},
   "outputs": [],
   "source": []
  },
  {
   "cell_type": "code",
   "execution_count": null,
   "id": "97e05c84-6bf7-4aa8-a770-d289df9259be",
   "metadata": {},
   "outputs": [],
   "source": []
  }
 ],
 "metadata": {
  "kernelspec": {
   "display_name": "Python 3 (ipykernel)",
   "language": "python",
   "name": "python3"
  },
  "language_info": {
   "codemirror_mode": {
    "name": "ipython",
    "version": 3
   },
   "file_extension": ".py",
   "mimetype": "text/x-python",
   "name": "python",
   "nbconvert_exporter": "python",
   "pygments_lexer": "ipython3",
   "version": "3.10.6"
  }
 },
 "nbformat": 4,
 "nbformat_minor": 5
}
