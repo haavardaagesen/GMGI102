{
 "cells": [
  {
   "cell_type": "markdown",
   "metadata": {},
   "source": [
    "# Geometriske objekter\n",
    "\n",
    "En liten gjennomgang av geometriske objekter som brukt i Python med [Shapely](https://shapely.readthedocs.io/en/stable/manual.html).\n",
    "\n",
    "## Data modell\n",
    "\n",
    "![Spatial data model](https://autogis-site.readthedocs.io/en/latest/_images/simple-features_595x500px.svg)\n",
    "\n",
    "`Punkt(Points)`, `Linjer(Lines)` og `Polygoner(Polygons)` er fundamentale geometriske objekter når vi jobber med romlig data i vektor format. I Python er [Shapely](https://shapely.readthedocs.io/en/stable/manual.html) modulen som brukes for å utføre diverse geometriske operasjoner.\n",
    "\n",
    "**Geometriske objekter består av koordinattuppler hvor:**\n",
    "\n",
    "-  `Point` -objektet representerer et enkelt punkt i et rom. Punkt kan være enten todimensjonale (x, y) eller tredimensjonale (x, y, z).\n",
    "-  `LineString` -objektet representerer en sekvens av punkt som er koblet sammen og former en linje. En linje består dermed av en liste med minst to koordinattuppler.\n",
    "-  `Polygon` -objektet representerer et fyllt område som består av en liste med misnt tre koordinattuppler som utgjør den ytre ringen (og potensielt en liste med \"hull-polygoner\".\n",
    "\n",
    "**Det er også mulig å ha en samling med geometriske objekter (f.eks. et polygon med flere bestanddeler):**\n",
    "\n",
    "-  `MultiPoint` -objektet representerer en samling med punkt og består av en liste med koordinattuppler.\n",
    "-  `MultiLineString` -objektet representerer en samling med linjer og består av en liste med liste med linjelignende sekvenser.\n",
    "-  `MultiPolygon` -objektet representerer en samling med polygoner som består av en lsite med polygonlignende sekvenser.\n",
    "\n",
    "**Nyttige attributter og metoder i Shapely:**\n",
    "\n",
    "-  Å lage linjer og polygoner fra en samling med punktobjekter.\n",
    "-  Å regne ut areal/lengde/grenser osv. av geometrier.\n",
    "-  Å utføre geometriske operasjoner fra input-geometrier så som; `union`, `difference`, `distance` osv.\n",
    "-  Å utføre romlige spørringer mellom geometrier så som; `intersects`, `touches`, `crosses`, `within` osv.\n"
   ]
  },
  {
   "cell_type": "markdown",
   "metadata": {},
   "source": [
    "<div class=\"alert alert-info\">\n",
    "\n",
    "**Tuppler**\n",
    "\n",
    "En [Tuppel](https://docs.python.org/3/tutorial/datastructures.html#tuples-and-sequences) er en datastruktur i Python som består av et antall verdier separert av komma. Koordinatpar er ofte representert som tuppler. For eksempel:\n",
    "\n",
    "```\n",
    "(59.66539, 10.77604)\n",
    "``` \n",
    "\n",
    "</div>\n"
   ]
  },
  {
   "cell_type": "markdown",
   "metadata": {},
   "source": [
    "## Punkt\n",
    "\n",
    "Punkt lages lett å lage, ved å gi `Point()`-objektet x- og y-koordinater:"
   ]
  },
  {
   "cell_type": "code",
   "execution_count": 1,
   "metadata": {
    "collapsed": false,
    "execution": {
     "iopub.execute_input": "2022-09-14T10:09:05.180356Z",
     "iopub.status.busy": "2022-09-14T10:09:05.180182Z",
     "iopub.status.idle": "2022-09-14T10:09:05.270186Z",
     "shell.execute_reply": "2022-09-14T10:09:05.269558Z",
     "shell.execute_reply.started": "2022-09-14T10:09:05.180314Z"
    },
    "jupyter": {
     "outputs_hidden": false
    },
    "tags": []
   },
   "outputs": [],
   "source": [
    "# Import necessary geometric objects from shapely module\n",
    "from shapely.geometry import Point, LineString, Polygon\n",
    "\n",
    "# Create Point geometric object(s) with coordinates\n",
    "punkt1 = Point(2.2, 4.2)\n",
    "punkt2 = Point(7.2, -25.1)\n",
    "punkt3 = Point(9.26, -2.456)\n",
    "punkt3D = Point(9.26, -2.456, 0.57)"
   ]
  },
  {
   "cell_type": "code",
   "execution_count": 2,
   "metadata": {
    "execution": {
     "iopub.execute_input": "2022-09-14T10:09:05.272086Z",
     "iopub.status.busy": "2022-09-14T10:09:05.271663Z",
     "iopub.status.idle": "2022-09-14T10:09:05.282054Z",
     "shell.execute_reply": "2022-09-14T10:09:05.281566Z",
     "shell.execute_reply.started": "2022-09-14T10:09:05.272067Z"
    },
    "tags": []
   },
   "outputs": [
    {
     "data": {
      "image/svg+xml": [
       "<svg xmlns=\"http://www.w3.org/2000/svg\" xmlns:xlink=\"http://www.w3.org/1999/xlink\" width=\"100.0\" height=\"100.0\" viewBox=\"1.2000000000000002 3.2 2.0 2.0\" preserveAspectRatio=\"xMinYMin meet\"><g transform=\"matrix(1,0,0,-1,0,8.4)\"><circle cx=\"2.2\" cy=\"4.2\" r=\"0.06\" stroke=\"#555555\" stroke-width=\"0.02\" fill=\"#66cc99\" opacity=\"0.6\" /></g></svg>"
      ],
      "text/plain": [
       "<shapely.geometry.point.Point at 0x7f91de55be50>"
      ]
     },
     "execution_count": 2,
     "metadata": {},
     "output_type": "execute_result"
    }
   ],
   "source": [
    "punkt1"
   ]
  },
  {
   "cell_type": "markdown",
   "metadata": {},
   "source": [
    "Jupyter viser objektet direkte, men vi kan også få mer informasjon om definisjonen av disse objektene:"
   ]
  },
  {
   "cell_type": "code",
   "execution_count": 3,
   "metadata": {
    "collapsed": false,
    "execution": {
     "iopub.execute_input": "2022-09-14T10:09:05.283209Z",
     "iopub.status.busy": "2022-09-14T10:09:05.282894Z",
     "iopub.status.idle": "2022-09-14T10:09:05.287018Z",
     "shell.execute_reply": "2022-09-14T10:09:05.285872Z",
     "shell.execute_reply.started": "2022-09-14T10:09:05.283191Z"
    },
    "jupyter": {
     "outputs_hidden": false
    },
    "tags": []
   },
   "outputs": [
    {
     "name": "stdout",
     "output_type": "stream",
     "text": [
      "POINT (2.2 4.2)\n",
      "POINT Z (9.26 -2.456 0.57)\n"
     ]
    }
   ],
   "source": [
    "print(punkt1)\n",
    "print(punkt3D)"
   ]
  },
  {
   "cell_type": "markdown",
   "metadata": {},
   "source": [
    "3D-punkt kan kjennes igjen ved hjelp av Z-bokstaven foran koordinatene.\n",
    "\n",
    "Vi kan også finne ut datatypen for objektet:"
   ]
  },
  {
   "cell_type": "code",
   "execution_count": 4,
   "metadata": {
    "execution": {
     "iopub.execute_input": "2022-09-14T10:09:05.288425Z",
     "iopub.status.busy": "2022-09-14T10:09:05.288053Z",
     "iopub.status.idle": "2022-09-14T10:09:05.298978Z",
     "shell.execute_reply": "2022-09-14T10:09:05.298529Z",
     "shell.execute_reply.started": "2022-09-14T10:09:05.288406Z"
    }
   },
   "outputs": [
    {
     "data": {
      "text/plain": [
       "shapely.geometry.point.Point"
      ]
     },
     "execution_count": 4,
     "metadata": {},
     "output_type": "execute_result"
    }
   ],
   "source": [
    "type(punkt1)"
   ]
  },
  {
   "cell_type": "markdown",
   "metadata": {},
   "source": [
    "Her ser vi at objektet er et Shapely Point. Point-objektet er representert i et spesifikt format basert på [GEOS](https://trac.osgeo.org/geos) C++ biblioteket som er et av standardbibliotekene som brukes av ulike GIS-programmer. Det brukes blant annet som standard i [QGIS](http://www.qgis.org/en/site/). "
   ]
  },
  {
   "cell_type": "markdown",
   "metadata": {},
   "source": [
    "### Punkt attributter og funksjoner\n",
    "\n",
    "Punkt og andre shapely objekter har innebygde [attributter og funkjoner](https://shapely.readthedocs.io/en/stable/manual.html#general-attributes-and-methods). Med de tilgjengelige attributtene kan vi blant annet trekke ut koordinatverdiene og regne ut avstanden mellom ulike punkt."
   ]
  },
  {
   "cell_type": "markdown",
   "metadata": {},
   "source": [
    "`geom_type` attributten inneholder informasjon om geometritypen til et Shapely objekt:"
   ]
  },
  {
   "cell_type": "code",
   "execution_count": 5,
   "metadata": {
    "execution": {
     "iopub.execute_input": "2022-09-14T10:09:05.299980Z",
     "iopub.status.busy": "2022-09-14T10:09:05.299794Z",
     "iopub.status.idle": "2022-09-14T10:09:05.306980Z",
     "shell.execute_reply": "2022-09-14T10:09:05.306576Z",
     "shell.execute_reply.started": "2022-09-14T10:09:05.299963Z"
    },
    "tags": []
   },
   "outputs": [
    {
     "data": {
      "text/plain": [
       "'Point'"
      ]
     },
     "execution_count": 5,
     "metadata": {},
     "output_type": "execute_result"
    }
   ],
   "source": [
    "punkt1.geom_type"
   ]
  },
  {
   "cell_type": "markdown",
   "metadata": {},
   "source": [
    "Man kan trekke ut koordinatene fra et Point på flere måter:\n",
    "\n",
    "`coords` attributtet inneholder blant annet informasjon om `CoordinateSequence`, en annen Shapely datatype:"
   ]
  },
  {
   "cell_type": "code",
   "execution_count": 6,
   "metadata": {
    "execution": {
     "iopub.execute_input": "2022-09-14T10:09:05.308129Z",
     "iopub.status.busy": "2022-09-14T10:09:05.307753Z",
     "iopub.status.idle": "2022-09-14T10:09:05.311622Z",
     "shell.execute_reply": "2022-09-14T10:09:05.310889Z",
     "shell.execute_reply.started": "2022-09-14T10:09:05.308112Z"
    },
    "tags": []
   },
   "outputs": [
    {
     "data": {
      "text/plain": [
       "[(2.2, 4.2)]"
      ]
     },
     "execution_count": 6,
     "metadata": {},
     "output_type": "execute_result"
    }
   ],
   "source": [
    "# Get xy coordinate tuple\n",
    "list(punkt1.coords)"
   ]
  },
  {
   "cell_type": "code",
   "execution_count": 7,
   "metadata": {
    "collapsed": false,
    "execution": {
     "iopub.execute_input": "2022-09-14T10:09:05.313637Z",
     "iopub.status.busy": "2022-09-14T10:09:05.313367Z",
     "iopub.status.idle": "2022-09-14T10:09:05.316083Z",
     "shell.execute_reply": "2022-09-14T10:09:05.315679Z",
     "shell.execute_reply.started": "2022-09-14T10:09:05.313620Z"
    },
    "jupyter": {
     "outputs_hidden": false
    },
    "tags": []
   },
   "outputs": [],
   "source": [
    "# Read x and y coordinates separately\n",
    "x = punkt1.x\n",
    "y = punkt1.y"
   ]
  },
  {
   "cell_type": "code",
   "execution_count": 8,
   "metadata": {
    "execution": {
     "iopub.execute_input": "2022-09-14T10:09:05.316792Z",
     "iopub.status.busy": "2022-09-14T10:09:05.316604Z",
     "iopub.status.idle": "2022-09-14T10:09:05.321404Z",
     "shell.execute_reply": "2022-09-14T10:09:05.321013Z",
     "shell.execute_reply.started": "2022-09-14T10:09:05.316780Z"
    }
   },
   "outputs": [
    {
     "name": "stdout",
     "output_type": "stream",
     "text": [
      "2.2 4.2\n"
     ]
    }
   ],
   "source": [
    "print( x, y)"
   ]
  },
  {
   "cell_type": "markdown",
   "metadata": {},
   "source": [
    "Man kan også regne ut avstanden mellom to objekter med [distance](https://shapely.readthedocs.io/en/stable/manual.html#object.distance) metoden. I dette eksemplet er avstanden målt i et kartesisk koordinatsystem. Når man jobber med ekte GIS-data er avstanden basert på koordinatsystemet som brukes. Man bør alltid sjekke hva som er måleenheten (meter, grader, osv.) i koordinatsystemet som brukes.\n",
    "\n",
    "La oss sjekke avstanden mellom `punkt1` og `punkt2`:"
   ]
  },
  {
   "cell_type": "code",
   "execution_count": 9,
   "metadata": {
    "execution": {
     "iopub.execute_input": "2022-09-14T10:09:05.322090Z",
     "iopub.status.busy": "2022-09-14T10:09:05.321936Z",
     "iopub.status.idle": "2022-09-14T10:09:05.327036Z",
     "shell.execute_reply": "2022-09-14T10:09:05.326435Z",
     "shell.execute_reply.started": "2022-09-14T10:09:05.322076Z"
    }
   },
   "outputs": [
    {
     "name": "stdout",
     "output_type": "stream",
     "text": [
      "POINT (2.2 4.2)\n",
      "POINT (7.2 -25.1)\n"
     ]
    }
   ],
   "source": [
    "# Check input data\n",
    "print(punkt1)\n",
    "print(punkt2)"
   ]
  },
  {
   "cell_type": "code",
   "execution_count": 10,
   "metadata": {
    "execution": {
     "iopub.execute_input": "2022-09-14T10:09:05.328100Z",
     "iopub.status.busy": "2022-09-14T10:09:05.327770Z",
     "iopub.status.idle": "2022-09-14T10:09:05.334517Z",
     "shell.execute_reply": "2022-09-14T10:09:05.333350Z",
     "shell.execute_reply.started": "2022-09-14T10:09:05.328075Z"
    }
   },
   "outputs": [
    {
     "name": "stdout",
     "output_type": "stream",
     "text": [
      "Avstanden mellom punktene er 29.723559679150142 enheter.\n"
     ]
    }
   ],
   "source": [
    "# Calculate the distance between point1 and point2\n",
    "avstand = punkt1.distance(punkt2)\n",
    "\n",
    "# Print out a nicely formatted info message\n",
    "print(f\"Avstanden mellom punktene er {avstand} enheter.\")"
   ]
  },
  {
   "cell_type": "markdown",
   "metadata": {},
   "source": [
    "## LineString\n",
    "\n",
    "Fremgangsmåten for å lage LineString-objekter er ganske lik Shapely Point.\n",
    "\n",
    "Istedet for et enkelt koordinattuppel bruker vi her en liste med Shapely Point eller er list med koordinattuppler:"
   ]
  },
  {
   "cell_type": "code",
   "execution_count": 11,
   "metadata": {
    "collapsed": false,
    "execution": {
     "iopub.execute_input": "2022-09-14T10:09:05.335504Z",
     "iopub.status.busy": "2022-09-14T10:09:05.335261Z",
     "iopub.status.idle": "2022-09-14T10:09:05.339046Z",
     "shell.execute_reply": "2022-09-14T10:09:05.338500Z",
     "shell.execute_reply.started": "2022-09-14T10:09:05.335481Z"
    },
    "jupyter": {
     "outputs_hidden": false
    }
   },
   "outputs": [],
   "source": [
    "# Create a LineString from our Point objects\n",
    "linje = LineString([punkt1, punkt2, punkt3])"
   ]
  },
  {
   "cell_type": "code",
   "execution_count": 12,
   "metadata": {
    "execution": {
     "iopub.execute_input": "2022-09-14T10:09:05.340056Z",
     "iopub.status.busy": "2022-09-14T10:09:05.339754Z",
     "iopub.status.idle": "2022-09-14T10:09:05.345685Z",
     "shell.execute_reply": "2022-09-14T10:09:05.344694Z",
     "shell.execute_reply.started": "2022-09-14T10:09:05.340031Z"
    }
   },
   "outputs": [],
   "source": [
    "# It is also possible to produce the same outcome using coordinate tuples\n",
    "linje2 = LineString([(2.2, 4.2), (7.2, -25.1), (9.26, -2.456)])"
   ]
  },
  {
   "cell_type": "code",
   "execution_count": 13,
   "metadata": {
    "execution": {
     "iopub.execute_input": "2022-09-14T10:09:05.347475Z",
     "iopub.status.busy": "2022-09-14T10:09:05.347119Z",
     "iopub.status.idle": "2022-09-14T10:09:05.353410Z",
     "shell.execute_reply": "2022-09-14T10:09:05.352696Z",
     "shell.execute_reply.started": "2022-09-14T10:09:05.347451Z"
    }
   },
   "outputs": [
    {
     "data": {
      "text/plain": [
       "True"
      ]
     },
     "execution_count": 13,
     "metadata": {},
     "output_type": "execute_result"
    }
   ],
   "source": [
    "# Check if lines are identical\n",
    "linje == linje2 "
   ]
  },
  {
   "cell_type": "markdown",
   "metadata": {},
   "source": [
    "La oss se hvordan linjen vår ser ut: "
   ]
  },
  {
   "cell_type": "code",
   "execution_count": 14,
   "metadata": {
    "execution": {
     "iopub.execute_input": "2022-09-14T10:09:05.354429Z",
     "iopub.status.busy": "2022-09-14T10:09:05.354148Z",
     "iopub.status.idle": "2022-09-14T10:09:05.359233Z",
     "shell.execute_reply": "2022-09-14T10:09:05.358813Z",
     "shell.execute_reply.started": "2022-09-14T10:09:05.354407Z"
    }
   },
   "outputs": [
    {
     "data": {
      "image/svg+xml": [
       "<svg xmlns=\"http://www.w3.org/2000/svg\" xmlns:xlink=\"http://www.w3.org/1999/xlink\" width=\"100.0\" height=\"100.0\" viewBox=\"1.028 -26.272000000000002 9.404 31.644000000000002\" preserveAspectRatio=\"xMinYMin meet\"><g transform=\"matrix(1,0,0,-1,0,-20.900000000000002)\"><polyline fill=\"none\" stroke=\"#66cc99\" stroke-width=\"0.63288\" points=\"2.2,4.2 7.2,-25.1 9.26,-2.456\" opacity=\"0.8\" /></g></svg>"
      ],
      "text/plain": [
       "<shapely.geometry.linestring.LineString at 0x7f91b44318d0>"
      ]
     },
     "execution_count": 14,
     "metadata": {},
     "output_type": "execute_result"
    }
   ],
   "source": [
    "linje"
   ]
  },
  {
   "cell_type": "code",
   "execution_count": 15,
   "metadata": {
    "execution": {
     "iopub.execute_input": "2022-09-14T10:09:05.360599Z",
     "iopub.status.busy": "2022-09-14T10:09:05.360100Z",
     "iopub.status.idle": "2022-09-14T10:09:05.364973Z",
     "shell.execute_reply": "2022-09-14T10:09:05.364306Z",
     "shell.execute_reply.started": "2022-09-14T10:09:05.360568Z"
    }
   },
   "outputs": [
    {
     "name": "stdout",
     "output_type": "stream",
     "text": [
      "LINESTRING (2.2 4.2, 7.2 -25.1, 9.26 -2.456)\n"
     ]
    }
   ],
   "source": [
    "print(linje)"
   ]
  },
  {
   "cell_type": "markdown",
   "metadata": {},
   "source": [
    "Som vi kan se så består `linje`-variablen vår av flere koordinatpar."
   ]
  },
  {
   "cell_type": "code",
   "execution_count": 16,
   "metadata": {
    "execution": {
     "iopub.execute_input": "2022-09-14T10:09:05.366265Z",
     "iopub.status.busy": "2022-09-14T10:09:05.365941Z",
     "iopub.status.idle": "2022-09-14T10:09:05.371382Z",
     "shell.execute_reply": "2022-09-14T10:09:05.370765Z",
     "shell.execute_reply.started": "2022-09-14T10:09:05.366239Z"
    },
    "tags": []
   },
   "outputs": [
    {
     "data": {
      "text/plain": [
       "shapely.geometry.linestring.LineString"
      ]
     },
     "execution_count": 16,
     "metadata": {},
     "output_type": "execute_result"
    }
   ],
   "source": [
    "# Check data type of the line object\n",
    "type(linje)"
   ]
  },
  {
   "cell_type": "code",
   "execution_count": 17,
   "metadata": {
    "execution": {
     "iopub.execute_input": "2022-09-14T10:09:05.372343Z",
     "iopub.status.busy": "2022-09-14T10:09:05.372145Z",
     "iopub.status.idle": "2022-09-14T10:09:05.377604Z",
     "shell.execute_reply": "2022-09-14T10:09:05.377030Z",
     "shell.execute_reply.started": "2022-09-14T10:09:05.372328Z"
    }
   },
   "outputs": [
    {
     "data": {
      "text/plain": [
       "'LineString'"
      ]
     },
     "execution_count": 17,
     "metadata": {},
     "output_type": "execute_result"
    }
   ],
   "source": [
    "# Check geometry type of the line object\n",
    "linje.geom_type"
   ]
  },
  {
   "cell_type": "markdown",
   "metadata": {},
   "source": [
    "### LineString attributter og funksjoner\n",
    "\n",
    "\n",
    "`LineString` -objekter har mange nyttige innebygde attributter og funksjoner. Vi kan for eksempel trekke ut koordinatene eller lenden på en linje, finne midtpunktet, lage punkter langs linjen med gitte mellomrom, eller regne ut den minste avstanden fra linjen til et punkt. Alle funksjonene er videre definert i [Shapely documentasjonen](http://toblerity.org/shapely/manual.html).\n",
    "\n",
    "Vi kan trekke ut koordinatene fra en LineString på samme måte som med et `Point`."
   ]
  },
  {
   "cell_type": "code",
   "execution_count": 18,
   "metadata": {
    "collapsed": false,
    "execution": {
     "iopub.execute_input": "2022-09-14T10:09:05.378465Z",
     "iopub.status.busy": "2022-09-14T10:09:05.378197Z",
     "iopub.status.idle": "2022-09-14T10:09:05.384025Z",
     "shell.execute_reply": "2022-09-14T10:09:05.383418Z",
     "shell.execute_reply.started": "2022-09-14T10:09:05.378440Z"
    },
    "jupyter": {
     "outputs_hidden": false
    }
   },
   "outputs": [
    {
     "data": {
      "text/plain": [
       "[(2.2, 4.2), (7.2, -25.1), (9.26, -2.456)]"
      ]
     },
     "execution_count": 18,
     "metadata": {},
     "output_type": "execute_result"
    }
   ],
   "source": [
    "# Get xy coordinate tuples\n",
    "list(linje.coords)"
   ]
  },
  {
   "cell_type": "markdown",
   "metadata": {},
   "source": [
    "Her har vi igjen en liste med koordinattuppler.\n",
    "\n",
    "Hvis vi vil bruke de individuelle x- eller y-koordinatene i linjen, kan vi bruke `xy`-attributten: "
   ]
  },
  {
   "cell_type": "code",
   "execution_count": 19,
   "metadata": {
    "collapsed": false,
    "execution": {
     "iopub.execute_input": "2022-09-14T10:09:05.384988Z",
     "iopub.status.busy": "2022-09-14T10:09:05.384744Z",
     "iopub.status.idle": "2022-09-14T10:09:05.391221Z",
     "shell.execute_reply": "2022-09-14T10:09:05.390734Z",
     "shell.execute_reply.started": "2022-09-14T10:09:05.384965Z"
    },
    "jupyter": {
     "outputs_hidden": false
    },
    "tags": []
   },
   "outputs": [],
   "source": [
    "# Extract x and y coordinates separately\n",
    "xkoordinater = list(linje.xy[0])\n",
    "ykoordinater = list(linje.xy[1])"
   ]
  },
  {
   "cell_type": "code",
   "execution_count": 20,
   "metadata": {
    "execution": {
     "iopub.execute_input": "2022-09-14T10:09:05.391985Z",
     "iopub.status.busy": "2022-09-14T10:09:05.391805Z",
     "iopub.status.idle": "2022-09-14T10:09:05.396420Z",
     "shell.execute_reply": "2022-09-14T10:09:05.395844Z",
     "shell.execute_reply.started": "2022-09-14T10:09:05.391971Z"
    }
   },
   "outputs": [
    {
     "name": "stdout",
     "output_type": "stream",
     "text": [
      "[2.2, 7.2, 9.26]\n",
      "[4.2, -25.1, -2.456]\n"
     ]
    }
   ],
   "source": [
    "print(xkoordinater)\n",
    "print(ykoordinater)"
   ]
  },
  {
   "cell_type": "markdown",
   "metadata": {},
   "source": [
    "Vi kan også hente ut spesifikke attributter, så som lengden av linjen og midtpunktet:"
   ]
  },
  {
   "cell_type": "code",
   "execution_count": 21,
   "metadata": {
    "collapsed": false,
    "execution": {
     "iopub.execute_input": "2022-09-14T10:09:05.397513Z",
     "iopub.status.busy": "2022-09-14T10:09:05.397207Z",
     "iopub.status.idle": "2022-09-14T10:09:05.402993Z",
     "shell.execute_reply": "2022-09-14T10:09:05.402489Z",
     "shell.execute_reply.started": "2022-09-14T10:09:05.397488Z"
    },
    "jupyter": {
     "outputs_hidden": false
    },
    "tags": []
   },
   "outputs": [
    {
     "name": "stdout",
     "output_type": "stream",
     "text": [
      "Lengden på linjen vår er: 52.46106912939557 enheter\n"
     ]
    }
   ],
   "source": [
    "# Get the lenght of the line\n",
    "linje_lengden = linje.length\n",
    "print(f\"Lengden på linjen vår er: {linje_lengden} enheter\")"
   ]
  },
  {
   "cell_type": "code",
   "execution_count": 22,
   "metadata": {
    "execution": {
     "iopub.execute_input": "2022-09-14T10:09:05.405724Z",
     "iopub.status.busy": "2022-09-14T10:09:05.405413Z",
     "iopub.status.idle": "2022-09-14T10:09:05.408614Z",
     "shell.execute_reply": "2022-09-14T10:09:05.408167Z",
     "shell.execute_reply.started": "2022-09-14T10:09:05.405705Z"
    }
   },
   "outputs": [
    {
     "name": "stdout",
     "output_type": "stream",
     "text": [
      "POINT (6.229961354035622 -11.892411157572392)\n"
     ]
    }
   ],
   "source": [
    "# Get the centroid of the line\n",
    "print(linje.centroid)"
   ]
  },
  {
   "cell_type": "markdown",
   "metadata": {},
   "source": [
    "Som vi kan se, så er midtpunktet også et Shapely Point-objekt."
   ]
  },
  {
   "cell_type": "markdown",
   "metadata": {},
   "source": [
    "## Polygon\n",
    "\n",
    "`Polygon` -objektet følger samme logikk som `Point` og `LineString`, bare at Polygon-objektet tar en sekvens av koordinater som input.\n",
    "\n",
    "Polygoner trenger **minst tre koordinattuppler**:"
   ]
  },
  {
   "cell_type": "code",
   "execution_count": 23,
   "metadata": {
    "collapsed": false,
    "execution": {
     "iopub.execute_input": "2022-09-14T10:09:05.409543Z",
     "iopub.status.busy": "2022-09-14T10:09:05.409270Z",
     "iopub.status.idle": "2022-09-14T10:09:05.414221Z",
     "shell.execute_reply": "2022-09-14T10:09:05.413705Z",
     "shell.execute_reply.started": "2022-09-14T10:09:05.409526Z"
    },
    "jupyter": {
     "outputs_hidden": false
    }
   },
   "outputs": [],
   "source": [
    "# Create a Polygon from the coordinates\n",
    "poly = Polygon([(2.2, 4.2), (7.2, -25.1), (9.26, -2.456)])"
   ]
  },
  {
   "cell_type": "markdown",
   "metadata": {},
   "source": [
    "La oss se hvordan polygonet vårt ser ut:"
   ]
  },
  {
   "cell_type": "code",
   "execution_count": 24,
   "metadata": {
    "execution": {
     "iopub.execute_input": "2022-09-14T10:09:05.415071Z",
     "iopub.status.busy": "2022-09-14T10:09:05.414852Z",
     "iopub.status.idle": "2022-09-14T10:09:05.420349Z",
     "shell.execute_reply": "2022-09-14T10:09:05.419895Z",
     "shell.execute_reply.started": "2022-09-14T10:09:05.415054Z"
    },
    "tags": []
   },
   "outputs": [
    {
     "data": {
      "image/svg+xml": [
       "<svg xmlns=\"http://www.w3.org/2000/svg\" xmlns:xlink=\"http://www.w3.org/1999/xlink\" width=\"100.0\" height=\"100.0\" viewBox=\"1.028 -26.272000000000002 9.404 31.644000000000002\" preserveAspectRatio=\"xMinYMin meet\"><g transform=\"matrix(1,0,0,-1,0,-20.900000000000002)\"><path fill-rule=\"evenodd\" fill=\"#66cc99\" stroke=\"#555555\" stroke-width=\"0.63288\" opacity=\"0.6\" d=\"M 2.2,4.2 L 7.2,-25.1 L 9.26,-2.456 L 2.2,4.2 z\" /></g></svg>"
      ],
      "text/plain": [
       "<shapely.geometry.polygon.Polygon at 0x7f91b4432d70>"
      ]
     },
     "execution_count": 24,
     "metadata": {},
     "output_type": "execute_result"
    }
   ],
   "source": [
    "poly"
   ]
  },
  {
   "cell_type": "code",
   "execution_count": 25,
   "metadata": {
    "execution": {
     "iopub.execute_input": "2022-09-14T10:09:05.421169Z",
     "iopub.status.busy": "2022-09-14T10:09:05.420978Z",
     "iopub.status.idle": "2022-09-14T10:09:05.425783Z",
     "shell.execute_reply": "2022-09-14T10:09:05.425295Z",
     "shell.execute_reply.started": "2022-09-14T10:09:05.421152Z"
    }
   },
   "outputs": [
    {
     "name": "stdout",
     "output_type": "stream",
     "text": [
      "POLYGON ((2.2 4.2, 7.2 -25.1, 9.26 -2.456, 2.2 4.2))\n"
     ]
    }
   ],
   "source": [
    "print(poly)"
   ]
  },
  {
   "cell_type": "code",
   "execution_count": 26,
   "metadata": {
    "execution": {
     "iopub.execute_input": "2022-09-14T10:09:05.426819Z",
     "iopub.status.busy": "2022-09-14T10:09:05.426562Z",
     "iopub.status.idle": "2022-09-14T10:09:05.434241Z",
     "shell.execute_reply": "2022-09-14T10:09:05.433562Z",
     "shell.execute_reply.started": "2022-09-14T10:09:05.426798Z"
    }
   },
   "outputs": [
    {
     "data": {
      "text/plain": [
       "shapely.geometry.polygon.Polygon"
      ]
     },
     "execution_count": 26,
     "metadata": {},
     "output_type": "execute_result"
    }
   ],
   "source": [
    "# Data type\n",
    "type(poly)"
   ]
  },
  {
   "cell_type": "code",
   "execution_count": 27,
   "metadata": {
    "execution": {
     "iopub.execute_input": "2022-09-14T10:09:05.435000Z",
     "iopub.status.busy": "2022-09-14T10:09:05.434823Z",
     "iopub.status.idle": "2022-09-14T10:09:05.440245Z",
     "shell.execute_reply": "2022-09-14T10:09:05.439828Z",
     "shell.execute_reply.started": "2022-09-14T10:09:05.434986Z"
    }
   },
   "outputs": [
    {
     "data": {
      "text/plain": [
       "'Polygon'"
      ]
     },
     "execution_count": 27,
     "metadata": {},
     "output_type": "execute_result"
    }
   ],
   "source": [
    "# Geometry type\n",
    "poly.geom_type"
   ]
  },
  {
   "cell_type": "markdown",
   "metadata": {},
   "source": [
    "Vi kan også lage polygoner med hull:"
   ]
  },
  {
   "cell_type": "code",
   "execution_count": 28,
   "metadata": {
    "execution": {
     "iopub.execute_input": "2022-09-14T10:09:05.440907Z",
     "iopub.status.busy": "2022-09-14T10:09:05.440752Z",
     "iopub.status.idle": "2022-09-14T10:09:05.445640Z",
     "shell.execute_reply": "2022-09-14T10:09:05.445042Z",
     "shell.execute_reply.started": "2022-09-14T10:09:05.440894Z"
    }
   },
   "outputs": [],
   "source": [
    "# Define the outer border\n",
    "border = [(-180, 90), (-180, -90), (180, -90), (180, 90)]"
   ]
  },
  {
   "cell_type": "code",
   "execution_count": 29,
   "metadata": {
    "execution": {
     "iopub.execute_input": "2022-09-14T10:09:05.446831Z",
     "iopub.status.busy": "2022-09-14T10:09:05.446629Z",
     "iopub.status.idle": "2022-09-14T10:09:05.451111Z",
     "shell.execute_reply": "2022-09-14T10:09:05.450637Z",
     "shell.execute_reply.started": "2022-09-14T10:09:05.446817Z"
    }
   },
   "outputs": [
    {
     "name": "stdout",
     "output_type": "stream",
     "text": [
      "POLYGON ((-180 90, -180 -90, 180 -90, 180 90, -180 90))\n"
     ]
    }
   ],
   "source": [
    "# Outer polygon\n",
    "world = Polygon(shell=border)\n",
    "print(world)"
   ]
  },
  {
   "cell_type": "code",
   "execution_count": 30,
   "metadata": {
    "execution": {
     "iopub.execute_input": "2022-09-14T10:09:05.451815Z",
     "iopub.status.busy": "2022-09-14T10:09:05.451625Z",
     "iopub.status.idle": "2022-09-14T10:09:05.456750Z",
     "shell.execute_reply": "2022-09-14T10:09:05.456366Z",
     "shell.execute_reply.started": "2022-09-14T10:09:05.451801Z"
    }
   },
   "outputs": [
    {
     "data": {
      "image/svg+xml": [
       "<svg xmlns=\"http://www.w3.org/2000/svg\" xmlns:xlink=\"http://www.w3.org/1999/xlink\" width=\"300\" height=\"208.8\" viewBox=\"-194.4 -104.4 388.8 208.8\" preserveAspectRatio=\"xMinYMin meet\"><g transform=\"matrix(1,0,0,-1,0,0.0)\"><path fill-rule=\"evenodd\" fill=\"#66cc99\" stroke=\"#555555\" stroke-width=\"2.592\" opacity=\"0.6\" d=\"M -180.0,90.0 L -180.0,-90.0 L 180.0,-90.0 L 180.0,90.0 L -180.0,90.0 z\" /></g></svg>"
      ],
      "text/plain": [
       "<shapely.geometry.polygon.Polygon at 0x7f91dfa35060>"
      ]
     },
     "execution_count": 30,
     "metadata": {},
     "output_type": "execute_result"
    }
   ],
   "source": [
    "world"
   ]
  },
  {
   "cell_type": "code",
   "execution_count": 31,
   "metadata": {
    "execution": {
     "iopub.execute_input": "2022-09-14T10:09:05.457478Z",
     "iopub.status.busy": "2022-09-14T10:09:05.457291Z",
     "iopub.status.idle": "2022-09-14T10:09:05.461387Z",
     "shell.execute_reply": "2022-09-14T10:09:05.460760Z",
     "shell.execute_reply.started": "2022-09-14T10:09:05.457464Z"
    },
    "tags": []
   },
   "outputs": [],
   "source": [
    "# La oss lage et stort hull hvor vi har ti enheter fra kanten\n",
    "# NB: man kan ha flere hull, så vi må gi en liste med hullkoordinatene i en liste\n",
    "hole = [[(-170, 80), (-170, -80), (170, -80), (170, 80)]]"
   ]
  },
  {
   "cell_type": "code",
   "execution_count": 32,
   "metadata": {
    "execution": {
     "iopub.execute_input": "2022-09-14T10:09:05.462253Z",
     "iopub.status.busy": "2022-09-14T10:09:05.462012Z",
     "iopub.status.idle": "2022-09-14T10:09:05.467585Z",
     "shell.execute_reply": "2022-09-14T10:09:05.467130Z",
     "shell.execute_reply.started": "2022-09-14T10:09:05.462235Z"
    },
    "tags": []
   },
   "outputs": [
    {
     "name": "stdout",
     "output_type": "stream",
     "text": [
      "POLYGON ((-180 90, -180 -90, 180 -90, 180 90, -180 90), (-170 80, -170 -80, 170 -80, 170 80, -170 80))\n"
     ]
    }
   ],
   "source": [
    "# Nå kan vi sette sammen polygonet vårt med hullet inni.\n",
    "frame = Polygon(shell=border, holes=hole)\n",
    "print(frame)"
   ]
  },
  {
   "cell_type": "markdown",
   "metadata": {},
   "source": [
    "La oss se hva vi har:"
   ]
  },
  {
   "cell_type": "code",
   "execution_count": 33,
   "metadata": {
    "execution": {
     "iopub.execute_input": "2022-09-14T10:09:05.468270Z",
     "iopub.status.busy": "2022-09-14T10:09:05.468082Z",
     "iopub.status.idle": "2022-09-14T10:09:05.473623Z",
     "shell.execute_reply": "2022-09-14T10:09:05.473277Z",
     "shell.execute_reply.started": "2022-09-14T10:09:05.468256Z"
    },
    "tags": []
   },
   "outputs": [
    {
     "data": {
      "image/svg+xml": [
       "<svg xmlns=\"http://www.w3.org/2000/svg\" xmlns:xlink=\"http://www.w3.org/1999/xlink\" width=\"300\" height=\"208.8\" viewBox=\"-194.4 -104.4 388.8 208.8\" preserveAspectRatio=\"xMinYMin meet\"><g transform=\"matrix(1,0,0,-1,0,0.0)\"><path fill-rule=\"evenodd\" fill=\"#66cc99\" stroke=\"#555555\" stroke-width=\"2.592\" opacity=\"0.6\" d=\"M -180.0,90.0 L -180.0,-90.0 L 180.0,-90.0 L 180.0,90.0 L -180.0,90.0 z M -170.0,80.0 L -170.0,-80.0 L 170.0,-80.0 L 170.0,80.0 L -170.0,80.0 z\" /></g></svg>"
      ],
      "text/plain": [
       "<shapely.geometry.polygon.Polygon at 0x7f91dfa34970>"
      ]
     },
     "execution_count": 33,
     "metadata": {},
     "output_type": "execute_result"
    }
   ],
   "source": [
    "frame"
   ]
  },
  {
   "cell_type": "code",
   "execution_count": 34,
   "metadata": {
    "execution": {
     "iopub.execute_input": "2022-09-14T10:09:05.474271Z",
     "iopub.status.busy": "2022-09-14T10:09:05.474118Z",
     "iopub.status.idle": "2022-09-14T10:09:05.478512Z",
     "shell.execute_reply": "2022-09-14T10:09:05.477940Z",
     "shell.execute_reply.started": "2022-09-14T10:09:05.474256Z"
    }
   },
   "outputs": [
    {
     "name": "stdout",
     "output_type": "stream",
     "text": [
      "POLYGON ((-180 90, -180 -90, 180 -90, 180 90, -180 90), (-170 80, -170 -80, 170 -80, 170 80, -170 80))\n"
     ]
    }
   ],
   "source": [
    "print(frame)"
   ]
  },
  {
   "cell_type": "markdown",
   "metadata": {},
   "source": [
    "Som vi kan se, så har polygonet nå to sett med koordinattuppler. Det første representerer det ytterste, og det andre representererer hullet inni polygonet."
   ]
  },
  {
   "cell_type": "markdown",
   "metadata": {},
   "source": [
    "### Polygon attributter og funksjoner\n",
    "\n",
    "Vi kan også med polygoner bruke attributtene direkte fra `Polygon`-objektet, noe som kan være nyttig for ulike typer analyser. For eksempel: `area`, `centroid`, `bounding box`, `exterior`, og `exterior-length`. Den fulle listen av metoder finner du i [Shapely User Manual](https://shapely.readthedocs.io/en/stable/manual.html#the-shapely-user-manual).\n",
    "\n",
    "La oss se på noen av attributtene her:"
   ]
  },
  {
   "cell_type": "code",
   "execution_count": 35,
   "metadata": {
    "execution": {
     "iopub.execute_input": "2022-09-14T10:09:05.479508Z",
     "iopub.status.busy": "2022-09-14T10:09:05.479216Z",
     "iopub.status.idle": "2022-09-14T10:09:05.484095Z",
     "shell.execute_reply": "2022-09-14T10:09:05.483668Z",
     "shell.execute_reply.started": "2022-09-14T10:09:05.479487Z"
    }
   },
   "outputs": [
    {
     "name": "stdout",
     "output_type": "stream",
     "text": [
      "Polygon centroid: POINT (0 0)\n",
      "Polygon Area: 64800.0\n",
      "Polygon Bounding Box: (-180.0, -90.0, 180.0, 90.0)\n",
      "Polygon Exterior: LINEARRING (-180 90, -180 -90, 180 -90, 180 90, -180 90)\n",
      "Polygon Exterior Length: 1080.0\n"
     ]
    }
   ],
   "source": [
    "# Print the outputs\n",
    "print(f\"Polygon centroid: {world.centroid}\")\n",
    "print(f\"Polygon Area: {world.area}\")\n",
    "print(f\"Polygon Bounding Box: {world.bounds}\")\n",
    "print(f\"Polygon Exterior: {world.exterior}\")\n",
    "print(f\"Polygon Exterior Length: {world.exterior.length}\")"
   ]
  },
  {
   "cell_type": "markdown",
   "metadata": {},
   "source": [
    "Som vi kan se, er det forholdsvis enkelt å hente ut de ulike attributtene fra `Polygon`-objektet. Merk at avstandsmålene vil gi mer mening når man jobber med data i et projisert koordinatsystem."
   ]
  }
 ],
 "metadata": {
  "anaconda-cloud": {},
  "kernelspec": {
   "display_name": "Python 3 (ipykernel)",
   "language": "python",
   "name": "python3"
  },
  "language_info": {
   "codemirror_mode": {
    "name": "ipython",
    "version": 3
   },
   "file_extension": ".py",
   "mimetype": "text/x-python",
   "name": "python",
   "nbconvert_exporter": "python",
   "pygments_lexer": "ipython3",
   "version": "3.9.7"
  }
 },
 "nbformat": 4,
 "nbformat_minor": 4
}
